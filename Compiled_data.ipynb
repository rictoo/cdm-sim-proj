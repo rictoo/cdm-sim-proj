{
 "cells": [
  {
   "cell_type": "code",
   "execution_count": 2,
   "id": "c7ba5296",
   "metadata": {},
   "outputs": [],
   "source": [
    "# Imports \n",
    "import random \n",
    "import names # https://pypi.org/project/names/\n",
    "import numpy as np\n",
    "import matplotlib.pyplot as plt\n",
    "import pandas as pd\n",
    "import csv\n",
    "import os"
   ]
  },
  {
   "cell_type": "markdown",
   "id": "0d7dcbd3",
   "metadata": {},
   "source": [
    "Creating the simulation dataset"
   ]
  },
  {
   "cell_type": "code",
   "execution_count": 3,
   "id": "c3b8a90a",
   "metadata": {},
   "outputs": [],
   "source": [
    "df = pd.DataFrame() "
   ]
  },
  {
   "cell_type": "code",
   "execution_count": 9,
   "id": "19f313cf",
   "metadata": {},
   "outputs": [],
   "source": [
    "seed = 1\n",
    "random.seed(seed)\n",
    "np.random.seed(seed)\n",
    "\n",
    "# Initialise empty lists\n",
    "sampleid_list = []\n",
    "fname_list = []\n",
    "lname_list = []\n",
    "age_list = []\n",
    "gender_list = []\n",
    "country_list = []\n",
    "city_list = []\n",
    "bmi_list = []\n",
    "height_list = []\n",
    "edu_list = []\n",
    "gene_expr_list = []\n",
    "snp_list = []\n",
    "cc_status_list = []\n",
    "\n",
    "# Declare values\n",
    "education = [\"primary\", \"high school\", \"bachelor\", \"master\", \"phD\"]\n",
    "genders = [\"Male\", \"Female\"]\n",
    "snps = [0,1,2]\n",
    "country_data = pd.read_csv(os.getcwd() + \"/Data/country-list.csv\", usecols = [0])['country'].to_list()\n",
    "city_data = pd.read_csv(os.getcwd() + \"/Data/country-list.csv\", usecols = [1])['capital'].to_list()\n",
    "\n",
    "\n",
    "# Assign random countries\n",
    "#country_list = country_data.sample(n=500, replace = True).reset_index(drop=True)\n",
    "\n",
    "# Loop from 0 to 499 and fill in the remaining columns\n",
    "for i in range(0,500):\n",
    "    # Assign sample id by increment\n",
    "    sample = (\"A001_0\" + str(i))\n",
    "    sampleid_list.append(sample)  \n",
    "    \n",
    "    # Assign random gender\n",
    "    gender_list.append(genders[random.randint(0,1)])\n",
    "    \n",
    "    # Assign first name, weight, height, and BMI dependent on gender\n",
    "    if gender_list[i] == \"Male\":\n",
    "        rand_fname = names.get_first_name(gender='male')\n",
    "        # Reference: https://asbmr.onlinelibrary.wiley.com/doi/full/10.1002/jbm4.10358\n",
    "        bmi = np.random.normal(27.84, 4.25)\n",
    "        height = np.random.normal(176, 6.8)\n",
    "    else:\n",
    "        rand_fname = names.get_first_name(gender='female')\n",
    "        bmi = np.random.normal(27.09, 5.19)\n",
    "        height = np.random.normal(162, 6.3)\n",
    "    fname_list.append(rand_fname)\n",
    "    bmi_list.append(np.round(bmi, 2))\n",
    "    height_list.append(np.round(height, 2))\n",
    "    \n",
    "    # Assign case-control status\n",
    "    cc_status = (0 if bmi < 30 else 1)\n",
    "    cc_status_list.append(cc_status)\n",
    "\n",
    "    # Assign random last name\n",
    "    rand_lname = names.get_last_name()\n",
    "    lname_list.append(rand_lname)\n",
    "\n",
    "    # Assign random age\n",
    "    rand_age = random.randint(20, 79)\n",
    "    age_list.append(rand_age)\n",
    "    \n",
    "    # Assign random country\n",
    "    country_list.append(country_data[random.randint(0, len(country_data)-1)])\n",
    "\n",
    "    # Assign capital city\n",
    "    city_list.append(city_data[random.randint(0, len(city_data)-1)])\n",
    "    \n",
    "    # Assign random educational attainment\n",
    "    edu_list.append(education[random.randint(0, 4)])   \n",
    "\n",
    "    # Assign random 10 gene expression values\n",
    "    gene_list = [None] * 10\n",
    "    for x in range(0,10):\n",
    "        gene_mean = random.randint(2,8)  + (2 if case else 0)\n",
    "        gene_std = random.randint(10,20)/10\n",
    "        gene_expr = np.random.normal(gene_mean, gene_std)\n",
    "        if gene_expr < 0: gene_expr=0\n",
    "        gene_list[x] = gene_expr\n",
    "    gene_expr_list.append(gene_list) \n",
    "    \n",
    "    snps_ind = random.choices(snps,k=5)\n",
    "    snp_list.append(snps_ind)\n",
    "\n",
    "df = pd.DataFrame(\n",
    "    {'Sample ID': sampleid_list,\n",
    "     'First name': fname_list,\n",
    "     'Last name': lname_list,\n",
    "     'Gender': gender_list,\n",
    "     'Age': age_list,\n",
    "     'Country': country_list,\n",
    "     'City': city_list,\n",
    "     'Height': height_list,\n",
    "     'BMI': bmi_list,\n",
    "     'Education': edu_list,\n",
    "     'Gene expression': gene_expr_list,\n",
    "     'SNPs': snp_list,\n",
    "     'CC Status': cc_status_list\n",
    "\n",
    "    })\n",
    "\n",
    "df.to_csv(\"simulated.csv\")"
   ]
  },
  {
   "cell_type": "code",
   "execution_count": 219,
   "id": "39501c50",
   "metadata": {},
   "outputs": [
    {
     "data": {
      "text/plain": [
       "<AxesSubplot:ylabel='Frequency'>"
      ]
     },
     "execution_count": 219,
     "metadata": {},
     "output_type": "execute_result"
    },
    {
     "data": {
      "image/png": "[encoded data removed]",
      "text/plain": [
       "<Figure size 640x480 with 1 Axes>"
      ]
     },
     "metadata": {},
     "output_type": "display_data"
    }
   ],
   "source": [
    "df['height'].plot.hist(bins=20)"
   ]
  },
  {
   "cell_type": "code",
   "execution_count": 202,
   "id": "5c8e494c",
   "metadata": {},
   "outputs": [
    {
     "ename": "FileNotFoundError",
     "evalue": "[Errno 2] No such file or directory: '/Users/tina/Desktop/simulation /country-capitals/data/country-list.csv'",
     "output_type": "error",
     "traceback": [
      "\u001b[0;31m---------------------------------------------------------------------------\u001b[0m",
      "\u001b[0;31mFileNotFoundError\u001b[0m                         Traceback (most recent call last)",
      "\u001b[0;32m/tmp/ipykernel_2221393/2489474886.py\u001b[0m in \u001b[0;36m<module>\u001b[0;34m\u001b[0m\n\u001b[0;32m----> 1\u001b[0;31m \u001b[0mcountry_data\u001b[0m \u001b[0;34m=\u001b[0m \u001b[0mpd\u001b[0m\u001b[0;34m.\u001b[0m\u001b[0mread_csv\u001b[0m\u001b[0;34m(\u001b[0m\u001b[0;34m\"/Users/tina/Desktop/simulation /country-capitals/data/country-list.csv\"\u001b[0m\u001b[0;34m)\u001b[0m\u001b[0;34m\u001b[0m\u001b[0;34m\u001b[0m\u001b[0m\n\u001b[0m\u001b[1;32m      2\u001b[0m \u001b[0mcountry_data\u001b[0m \u001b[0;34m=\u001b[0m \u001b[0mcountry_data\u001b[0m\u001b[0;34m.\u001b[0m\u001b[0mdrop\u001b[0m\u001b[0;34m(\u001b[0m\u001b[0mcountry_data\u001b[0m\u001b[0;34m.\u001b[0m\u001b[0mcolumns\u001b[0m\u001b[0;34m[\u001b[0m\u001b[0;36m2\u001b[0m\u001b[0;34m]\u001b[0m\u001b[0;34m,\u001b[0m \u001b[0maxis\u001b[0m \u001b[0;34m=\u001b[0m\u001b[0;36m1\u001b[0m\u001b[0;34m)\u001b[0m\u001b[0;34m\u001b[0m\u001b[0;34m\u001b[0m\u001b[0m\n\u001b[1;32m      3\u001b[0m \u001b[0msample\u001b[0m \u001b[0;34m=\u001b[0m \u001b[0mcountry_data\u001b[0m\u001b[0;34m.\u001b[0m\u001b[0msample\u001b[0m\u001b[0;34m(\u001b[0m\u001b[0mn\u001b[0m\u001b[0;34m=\u001b[0m\u001b[0;36m500\u001b[0m\u001b[0;34m,\u001b[0m \u001b[0mreplace\u001b[0m \u001b[0;34m=\u001b[0m \u001b[0;32mTrue\u001b[0m\u001b[0;34m)\u001b[0m\u001b[0;34m\u001b[0m\u001b[0;34m\u001b[0m\u001b[0m\n\u001b[1;32m      4\u001b[0m \u001b[0msample\u001b[0m \u001b[0;34m=\u001b[0m \u001b[0msample\u001b[0m\u001b[0;34m.\u001b[0m\u001b[0mreset_index\u001b[0m\u001b[0;34m(\u001b[0m\u001b[0mdrop\u001b[0m\u001b[0;34m=\u001b[0m\u001b[0;32mTrue\u001b[0m\u001b[0;34m)\u001b[0m\u001b[0;34m\u001b[0m\u001b[0;34m\u001b[0m\u001b[0m\n\u001b[1;32m      5\u001b[0m \u001b[0;34m\u001b[0m\u001b[0m\n",
      "\u001b[0;32m~/anaconda3/envs/hda/lib/python3.10/site-packages/pandas/util/_decorators.py\u001b[0m in \u001b[0;36mwrapper\u001b[0;34m(*args, **kwargs)\u001b[0m\n\u001b[1;32m    209\u001b[0m                 \u001b[0;32melse\u001b[0m\u001b[0;34m:\u001b[0m\u001b[0;34m\u001b[0m\u001b[0;34m\u001b[0m\u001b[0m\n\u001b[1;32m    210\u001b[0m                     \u001b[0mkwargs\u001b[0m\u001b[0;34m[\u001b[0m\u001b[0mnew_arg_name\u001b[0m\u001b[0;34m]\u001b[0m \u001b[0;34m=\u001b[0m \u001b[0mnew_arg_value\u001b[0m\u001b[0;34m\u001b[0m\u001b[0;34m\u001b[0m\u001b[0m\n\u001b[0;32m--> 211\u001b[0;31m             \u001b[0;32mreturn\u001b[0m \u001b[0mfunc\u001b[0m\u001b[0;34m(\u001b[0m\u001b[0;34m*\u001b[0m\u001b[0margs\u001b[0m\u001b[0;34m,\u001b[0m \u001b[0;34m**\u001b[0m\u001b[0mkwargs\u001b[0m\u001b[0;34m)\u001b[0m\u001b[0;34m\u001b[0m\u001b[0;34m\u001b[0m\u001b[0m\n\u001b[0m\u001b[1;32m    212\u001b[0m \u001b[0;34m\u001b[0m\u001b[0m\n\u001b[1;32m    213\u001b[0m         \u001b[0;32mreturn\u001b[0m \u001b[0mcast\u001b[0m\u001b[0;34m(\u001b[0m\u001b[0mF\u001b[0m\u001b[0;34m,\u001b[0m \u001b[0mwrapper\u001b[0m\u001b[0;34m)\u001b[0m\u001b[0;34m\u001b[0m\u001b[0;34m\u001b[0m\u001b[0m\n",
      "\u001b[0;32m~/anaconda3/envs/hda/lib/python3.10/site-packages/pandas/util/_decorators.py\u001b[0m in \u001b[0;36mwrapper\u001b[0;34m(*args, **kwargs)\u001b[0m\n\u001b[1;32m    329\u001b[0m                     \u001b[0mstacklevel\u001b[0m\u001b[0;34m=\u001b[0m\u001b[0mfind_stack_level\u001b[0m\u001b[0;34m(\u001b[0m\u001b[0;34m)\u001b[0m\u001b[0;34m,\u001b[0m\u001b[0;34m\u001b[0m\u001b[0;34m\u001b[0m\u001b[0m\n\u001b[1;32m    330\u001b[0m                 )\n\u001b[0;32m--> 331\u001b[0;31m             \u001b[0;32mreturn\u001b[0m \u001b[0mfunc\u001b[0m\u001b[0;34m(\u001b[0m\u001b[0;34m*\u001b[0m\u001b[0margs\u001b[0m\u001b[0;34m,\u001b[0m \u001b[0;34m**\u001b[0m\u001b[0mkwargs\u001b[0m\u001b[0;34m)\u001b[0m\u001b[0;34m\u001b[0m\u001b[0;34m\u001b[0m\u001b[0m\n\u001b[0m\u001b[1;32m    332\u001b[0m \u001b[0;34m\u001b[0m\u001b[0m\n\u001b[1;32m    333\u001b[0m         \u001b[0;31m# error: \"Callable[[VarArg(Any), KwArg(Any)], Any]\" has no\u001b[0m\u001b[0;34m\u001b[0m\u001b[0;34m\u001b[0m\u001b[0m\n",
      "\u001b[0;32m~/anaconda3/envs/hda/lib/python3.10/site-packages/pandas/io/parsers/readers.py\u001b[0m in \u001b[0;36mread_csv\u001b[0;34m(filepath_or_buffer, sep, delimiter, header, names, index_col, usecols, squeeze, prefix, mangle_dupe_cols, dtype, engine, converters, true_values, false_values, skipinitialspace, skiprows, skipfooter, nrows, na_values, keep_default_na, na_filter, verbose, skip_blank_lines, parse_dates, infer_datetime_format, keep_date_col, date_parser, dayfirst, cache_dates, iterator, chunksize, compression, thousands, decimal, lineterminator, quotechar, quoting, doublequote, escapechar, comment, encoding, encoding_errors, dialect, error_bad_lines, warn_bad_lines, on_bad_lines, delim_whitespace, low_memory, memory_map, float_precision, storage_options)\u001b[0m\n\u001b[1;32m    948\u001b[0m     \u001b[0mkwds\u001b[0m\u001b[0;34m.\u001b[0m\u001b[0mupdate\u001b[0m\u001b[0;34m(\u001b[0m\u001b[0mkwds_defaults\u001b[0m\u001b[0;34m)\u001b[0m\u001b[0;34m\u001b[0m\u001b[0;34m\u001b[0m\u001b[0m\n\u001b[1;32m    949\u001b[0m \u001b[0;34m\u001b[0m\u001b[0m\n\u001b[0;32m--> 950\u001b[0;31m     \u001b[0;32mreturn\u001b[0m \u001b[0m_read\u001b[0m\u001b[0;34m(\u001b[0m\u001b[0mfilepath_or_buffer\u001b[0m\u001b[0;34m,\u001b[0m \u001b[0mkwds\u001b[0m\u001b[0;34m)\u001b[0m\u001b[0;34m\u001b[0m\u001b[0;34m\u001b[0m\u001b[0m\n\u001b[0m\u001b[1;32m    951\u001b[0m \u001b[0;34m\u001b[0m\u001b[0m\n\u001b[1;32m    952\u001b[0m \u001b[0;34m\u001b[0m\u001b[0m\n",
      "\u001b[0;32m~/anaconda3/envs/hda/lib/python3.10/site-packages/pandas/io/parsers/readers.py\u001b[0m in \u001b[0;36m_read\u001b[0;34m(filepath_or_buffer, kwds)\u001b[0m\n\u001b[1;32m    603\u001b[0m \u001b[0;34m\u001b[0m\u001b[0m\n\u001b[1;32m    604\u001b[0m     \u001b[0;31m# Create the parser.\u001b[0m\u001b[0;34m\u001b[0m\u001b[0;34m\u001b[0m\u001b[0m\n\u001b[0;32m--> 605\u001b[0;31m     \u001b[0mparser\u001b[0m \u001b[0;34m=\u001b[0m \u001b[0mTextFileReader\u001b[0m\u001b[0;34m(\u001b[0m\u001b[0mfilepath_or_buffer\u001b[0m\u001b[0;34m,\u001b[0m \u001b[0;34m**\u001b[0m\u001b[0mkwds\u001b[0m\u001b[0;34m)\u001b[0m\u001b[0;34m\u001b[0m\u001b[0;34m\u001b[0m\u001b[0m\n\u001b[0m\u001b[1;32m    606\u001b[0m \u001b[0;34m\u001b[0m\u001b[0m\n\u001b[1;32m    607\u001b[0m     \u001b[0;32mif\u001b[0m \u001b[0mchunksize\u001b[0m \u001b[0;32mor\u001b[0m \u001b[0miterator\u001b[0m\u001b[0;34m:\u001b[0m\u001b[0;34m\u001b[0m\u001b[0;34m\u001b[0m\u001b[0m\n",
      "\u001b[0;32m~/anaconda3/envs/hda/lib/python3.10/site-packages/pandas/io/parsers/readers.py\u001b[0m in \u001b[0;36m__init__\u001b[0;34m(self, f, engine, **kwds)\u001b[0m\n\u001b[1;32m   1440\u001b[0m \u001b[0;34m\u001b[0m\u001b[0m\n\u001b[1;32m   1441\u001b[0m         \u001b[0mself\u001b[0m\u001b[0;34m.\u001b[0m\u001b[0mhandles\u001b[0m\u001b[0;34m:\u001b[0m \u001b[0mIOHandles\u001b[0m \u001b[0;34m|\u001b[0m \u001b[0;32mNone\u001b[0m \u001b[0;34m=\u001b[0m \u001b[0;32mNone\u001b[0m\u001b[0;34m\u001b[0m\u001b[0;34m\u001b[0m\u001b[0m\n\u001b[0;32m-> 1442\u001b[0;31m         \u001b[0mself\u001b[0m\u001b[0;34m.\u001b[0m\u001b[0m_engine\u001b[0m \u001b[0;34m=\u001b[0m \u001b[0mself\u001b[0m\u001b[0;34m.\u001b[0m\u001b[0m_make_engine\u001b[0m\u001b[0;34m(\u001b[0m\u001b[0mf\u001b[0m\u001b[0;34m,\u001b[0m \u001b[0mself\u001b[0m\u001b[0;34m.\u001b[0m\u001b[0mengine\u001b[0m\u001b[0;34m)\u001b[0m\u001b[0;34m\u001b[0m\u001b[0;34m\u001b[0m\u001b[0m\n\u001b[0m\u001b[1;32m   1443\u001b[0m \u001b[0;34m\u001b[0m\u001b[0m\n\u001b[1;32m   1444\u001b[0m     \u001b[0;32mdef\u001b[0m \u001b[0mclose\u001b[0m\u001b[0;34m(\u001b[0m\u001b[0mself\u001b[0m\u001b[0;34m)\u001b[0m \u001b[0;34m->\u001b[0m \u001b[0;32mNone\u001b[0m\u001b[0;34m:\u001b[0m\u001b[0;34m\u001b[0m\u001b[0;34m\u001b[0m\u001b[0m\n",
      "\u001b[0;32m~/anaconda3/envs/hda/lib/python3.10/site-packages/pandas/io/parsers/readers.py\u001b[0m in \u001b[0;36m_make_engine\u001b[0;34m(self, f, engine)\u001b[0m\n\u001b[1;32m   1733\u001b[0m                 \u001b[0;32mif\u001b[0m \u001b[0;34m\"b\"\u001b[0m \u001b[0;32mnot\u001b[0m \u001b[0;32min\u001b[0m \u001b[0mmode\u001b[0m\u001b[0;34m:\u001b[0m\u001b[0;34m\u001b[0m\u001b[0;34m\u001b[0m\u001b[0m\n\u001b[1;32m   1734\u001b[0m                     \u001b[0mmode\u001b[0m \u001b[0;34m+=\u001b[0m \u001b[0;34m\"b\"\u001b[0m\u001b[0;34m\u001b[0m\u001b[0;34m\u001b[0m\u001b[0m\n\u001b[0;32m-> 1735\u001b[0;31m             self.handles = get_handle(\n\u001b[0m\u001b[1;32m   1736\u001b[0m                 \u001b[0mf\u001b[0m\u001b[0;34m,\u001b[0m\u001b[0;34m\u001b[0m\u001b[0;34m\u001b[0m\u001b[0m\n\u001b[1;32m   1737\u001b[0m                 \u001b[0mmode\u001b[0m\u001b[0;34m,\u001b[0m\u001b[0;34m\u001b[0m\u001b[0;34m\u001b[0m\u001b[0m\n",
      "\u001b[0;32m~/anaconda3/envs/hda/lib/python3.10/site-packages/pandas/io/common.py\u001b[0m in \u001b[0;36mget_handle\u001b[0;34m(path_or_buf, mode, encoding, compression, memory_map, is_text, errors, storage_options)\u001b[0m\n\u001b[1;32m    854\u001b[0m         \u001b[0;32mif\u001b[0m \u001b[0mioargs\u001b[0m\u001b[0;34m.\u001b[0m\u001b[0mencoding\u001b[0m \u001b[0;32mand\u001b[0m \u001b[0;34m\"b\"\u001b[0m \u001b[0;32mnot\u001b[0m \u001b[0;32min\u001b[0m \u001b[0mioargs\u001b[0m\u001b[0;34m.\u001b[0m\u001b[0mmode\u001b[0m\u001b[0;34m:\u001b[0m\u001b[0;34m\u001b[0m\u001b[0;34m\u001b[0m\u001b[0m\n\u001b[1;32m    855\u001b[0m             \u001b[0;31m# Encoding\u001b[0m\u001b[0;34m\u001b[0m\u001b[0;34m\u001b[0m\u001b[0m\n\u001b[0;32m--> 856\u001b[0;31m             handle = open(\n\u001b[0m\u001b[1;32m    857\u001b[0m                 \u001b[0mhandle\u001b[0m\u001b[0;34m,\u001b[0m\u001b[0;34m\u001b[0m\u001b[0;34m\u001b[0m\u001b[0m\n\u001b[1;32m    858\u001b[0m                 \u001b[0mioargs\u001b[0m\u001b[0;34m.\u001b[0m\u001b[0mmode\u001b[0m\u001b[0;34m,\u001b[0m\u001b[0;34m\u001b[0m\u001b[0;34m\u001b[0m\u001b[0m\n",
      "\u001b[0;31mFileNotFoundError\u001b[0m: [Errno 2] No such file or directory: '/Users/tina/Desktop/simulation /country-capitals/data/country-list.csv'"
     ]
    }
   ],
   "source": [
    "country_data = pd.read_csv(\"/Users/tina/Desktop/simulation /country-capitals/data/country-list.csv\")\n",
    "country_data = country_data.drop(country_data.columns[2], axis =1)\n",
    "sample = country_data.sample(n=500, replace = True)\n",
    "sample = sample.reset_index(drop=True)\n",
    "\n",
    "df = pd.concat([df,sample],axis=1)"
   ]
  },
  {
   "cell_type": "code",
   "execution_count": 203,
   "id": "57882e0b",
   "metadata": {},
   "outputs": [],
   "source": [
    "edu_dict = {'education': [\"primary\", \"high school\", \"bachelor\", \"master\", \"phD\"]}\n",
    "education_levels = pd.DataFrame(edu_dict)\n",
    "education_sample = education_levels.sample(n=500, replace = True)\n",
    "education_sample = education_sample.reset_index(drop=True)\n",
    "\n",
    "df = pd.concat([df,education_sample],axis=1)"
   ]
  },
  {
   "cell_type": "code",
   "execution_count": 212,
   "id": "15d1b6a0",
   "metadata": {},
   "outputs": [],
   "source": [
    "list_gene = ['gene_exp_val_1','gene_exp_val_2','gene_exp_val_3','gene_exp_val_4','gene_exp_val_5','gene_exp_val_6','gene_exp_val_7','gene_exp_val_8','gene_exp_val_9','gene_exp_val_10']\n",
    "for index in range(0,10):\n",
    "    gene_list = [None] * 500\n",
    "    for i in range(0,500):\n",
    "        gene_mean = random.randint(2,8)\n",
    "        gene_std = random.randint(10,20)/10\n",
    "        gene_expr = np.random.normal(gene_mean, gene_std)\n",
    "        gene_list[i] = gene_expr\n",
    "    df[list_gene[index]] = gene_list"
   ]
  },
  {
   "cell_type": "code",
   "execution_count": 213,
   "id": "b6285b6c",
   "metadata": {},
   "outputs": [],
   "source": [
    "list_SNP = [0,1,2]\n",
    "SNP1 = random.choices(list_SNP,k=500)\n",
    "SNP2 = random.choices(list_SNP,k=500)\n",
    "SNP3 = random.choices(list_SNP,k=500)\n",
    "SNP4 = random.choices(list_SNP,k=500)\n",
    "SNP5 = random.choices(list_SNP,k=500)\n",
    "\n",
    "# dict = {'SNP1': SNP1, 'SNP2': SNP2, 'SNP3': SNP3, 'SNP4':SNP4, 'SNP5':SNP5} \n",
    "df['SNP1'] = SNP1\n",
    "df['SNP2'] = SNP2\n",
    "df['SNP3'] = SNP3\n",
    "df['SNP4'] = SNP4\n",
    "df['SNP5'] = SNP5"
   ]
  },
  {
   "cell_type": "code",
   "execution_count": 231,
   "id": "6389700a",
   "metadata": {},
   "outputs": [
    {
     "data": {
      "image/png": "[encoded data removed]",
      "text/plain": [
       "<Figure size 640x480 with 1 Axes>"
      ]
     },
     "metadata": {},
     "output_type": "display_data"
    }
   ],
   "source": [
    "plt.hist(df['height'])\n",
    "plt.show()"
   ]
  },
  {
   "cell_type": "code",
   "execution_count": null,
   "id": "2ef40eab",
   "metadata": {},
   "outputs": [],
   "source": [
    "# Summary statistics "
   ]
  }
 ],
 "metadata": {
  "kernelspec": {
   "display_name": "Python 3 (ipykernel)",
   "language": "python",
   "name": "python3"
  },
  "language_info": {
   "codemirror_mode": {
    "name": "ipython",
    "version": 3
   },
   "file_extension": ".py",
   "mimetype": "text/x-python",
   "name": "python",
   "nbconvert_exporter": "python",
   "pygments_lexer": "ipython3",
   "version": "3.10.6"
  }
 },
 "nbformat": 4,
 "nbformat_minor": 5
}
