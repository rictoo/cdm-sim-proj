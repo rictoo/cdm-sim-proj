{
 "cells": [
  {
   "cell_type": "code",
   "execution_count": 70,
   "id": "5644bf50",
   "metadata": {},
   "outputs": [],
   "source": [
    "import random\n",
    "import numpy as np"
   ]
  },
  {
   "cell_type": "code",
   "execution_count": 71,
   "id": "2efda613",
   "metadata": {},
   "outputs": [],
   "source": [
    "# Gender, BMI, Height\n",
    "random.seed(1)\n",
    "np.random.seed(1)"
   ]
  },
  {
   "cell_type": "code",
   "execution_count": 72,
   "id": "b8de7da3",
   "metadata": {},
   "outputs": [],
   "source": [
    "genders = [\"Male\", \"Female\"]"
   ]
  },
  {
   "cell_type": "code",
   "execution_count": 73,
   "id": "339e4667",
   "metadata": {},
   "outputs": [],
   "source": [
    "gender = random.randint(0,1)"
   ]
  },
  {
   "cell_type": "code",
   "execution_count": 74,
   "id": "22e6b2de",
   "metadata": {},
   "outputs": [
    {
     "name": "stdout",
     "output_type": "stream",
     "text": [
      "175.58400563871794\n",
      "35.44364373966948\n"
     ]
    }
   ],
   "source": [
    "# https://asbmr.onlinelibrary.wiley.com/doi/full/10.1002/jbm4.10358\n",
    "weight = np.random.normal(85.93 if gender == 0 else 71.46, \n",
    "                          14.37 if gender == 0 else 14.09)\n",
    "height = np.random.normal(176 if gender == 0 else 162,\n",
    "                          0.68 if gender == 0 else 0.63)\n",
    "\n",
    "print(height)\n",
    "#list.add(i, height=height)\n",
    "\n",
    "bmi = weight / ((height/100)**2)\n",
    "print(bmi)\n",
    "#list.add(i, height=bmi)\n"
   ]
  },
  {
   "cell_type": "code",
   "execution_count": 78,
   "id": "64e5a8f3",
   "metadata": {},
   "outputs": [
    {
     "name": "stdout",
     "output_type": "stream",
     "text": [
      "[3.7537415083528023, 4.801711898528824, 1.8376626394036337, 3.877109774481352, 3.315615018333676, 6.705323112411382, 4.060710933476372, 6.031674947584567, 1.404869709716034, 5.7630891397847215]\n"
     ]
    }
   ],
   "source": [
    "# https://archive.ics.uci.edu/ml/datasets/gene+expression+cancer+RNA-Seq\n",
    "# explored data-set to identify distributions, realistic means and std deviations.\n",
    "\n",
    "gene_expr_list = [None] * 10\n",
    "for i in range(0, 10):\n",
    "    gene_mean = random.randint(2,8)\n",
    "    gene_std = random.randint(10,20)/10\n",
    "    gene_expr = np.random.normal(gene_mean, gene_std)\n",
    "    gene_expr_list[i] = gene_expr\n",
    "    \n",
    "print(gene_expr_list)\n",
    "#list.add(i, height=height)\n"
   ]
  },
  {
   "cell_type": "code",
   "execution_count": null,
   "id": "bbc6a3ed",
   "metadata": {},
   "outputs": [],
   "source": []
  }
 ],
 "metadata": {
  "kernelspec": {
   "display_name": "Python 3 (ipykernel)",
   "language": "python",
   "name": "python3"
  },
  "language_info": {
   "codemirror_mode": {
    "name": "ipython",
    "version": 3
   },
   "file_extension": ".py",
   "mimetype": "text/x-python",
   "name": "python",
   "nbconvert_exporter": "python",
   "pygments_lexer": "ipython3",
   "version": "3.10.6"
  }
 },
 "nbformat": 4,
 "nbformat_minor": 5
}
