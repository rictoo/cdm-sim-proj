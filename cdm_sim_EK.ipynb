{
 "cells": [
  {
   "cell_type": "code",
   "execution_count": 34,
   "id": "619f5f9e",
   "metadata": {},
   "outputs": [],
   "source": [
    "import random\n",
    "import numpy\n",
    "import pandas as pd"
   ]
  },
  {
   "cell_type": "code",
   "execution_count": 56,
   "id": "156ba493",
   "metadata": {},
   "outputs": [
    {
     "name": "stdout",
     "output_type": "stream",
     "text": [
      "                   country              capital            type\n",
      "0                 Abkhazia              Sukhumi  countryCapital\n",
      "1              Afghanistan                Kabul  countryCapital\n",
      "2    Akrotiri and Dhekelia  Episkopi Cantonment  countryCapital\n",
      "3                  Albania               Tirana  countryCapital\n",
      "4                  Algeria              Algiers  countryCapital\n",
      "..                     ...                  ...             ...\n",
      "243      Wallis and Futuna             Mata-Utu  countryCapital\n",
      "244         Western Sahara             El Aaiún  countryCapital\n",
      "245                  Yemen                Sanaá  countryCapital\n",
      "246                 Zambia               Lusaka  countryCapital\n",
      "247               Zimbabwe               Harare  countryCapital\n",
      "\n",
      "[248 rows x 3 columns]\n"
     ]
    }
   ],
   "source": [
    "data = pd.read_csv(r'/Users/emilyknight/Documents/CDM/Data/country-list.csv')\n",
    "print(data)"
   ]
  },
  {
   "cell_type": "code",
   "execution_count": 58,
   "id": "ac8c1d46",
   "metadata": {},
   "outputs": [],
   "source": [
    "data = data.drop(data.columns[2], axis =1)"
   ]
  },
  {
   "cell_type": "code",
   "execution_count": 54,
   "id": "801e71ab",
   "metadata": {},
   "outputs": [],
   "source": []
  },
  {
   "cell_type": "code",
   "execution_count": 69,
   "id": "387bab48",
   "metadata": {},
   "outputs": [],
   "source": [
    "sample = data.sample(n=500, replace = True)"
   ]
  },
  {
   "cell_type": "code",
   "execution_count": 62,
   "id": "793abf4b",
   "metadata": {},
   "outputs": [
    {
     "data": {
      "text/plain": [
       "country    222\n",
       "capital    219\n",
       "dtype: int64"
      ]
     },
     "execution_count": 62,
     "metadata": {},
     "output_type": "execute_result"
    }
   ],
   "source": [
    "sample.nunique()"
   ]
  },
  {
   "cell_type": "code",
   "execution_count": 63,
   "id": "2143fa9d",
   "metadata": {},
   "outputs": [],
   "source": [
    "d = {'education_level': [\"primary\", \"high school\", \"bachelor\", \"master\", \"phD\"]}"
   ]
  },
  {
   "cell_type": "code",
   "execution_count": 65,
   "id": "ee35f726",
   "metadata": {},
   "outputs": [],
   "source": [
    "education = pd.DataFrame(d)"
   ]
  },
  {
   "cell_type": "code",
   "execution_count": 66,
   "id": "a16c0eef",
   "metadata": {},
   "outputs": [],
   "source": [
    "education_sample = education.sample(n=500, replace = True)"
   ]
  },
  {
   "cell_type": "code",
   "execution_count": 68,
   "id": "731f67a8",
   "metadata": {},
   "outputs": [
    {
     "data": {
      "text/html": [
       "<div>\n",
       "<style scoped>\n",
       "    .dataframe tbody tr th:only-of-type {\n",
       "        vertical-align: middle;\n",
       "    }\n",
       "\n",
       "    .dataframe tbody tr th {\n",
       "        vertical-align: top;\n",
       "    }\n",
       "\n",
       "    .dataframe thead th {\n",
       "        text-align: right;\n",
       "    }\n",
       "</style>\n",
       "<table border=\"1\" class=\"dataframe\">\n",
       "  <thead>\n",
       "    <tr style=\"text-align: right;\">\n",
       "      <th></th>\n",
       "      <th>education_level</th>\n",
       "    </tr>\n",
       "  </thead>\n",
       "  <tbody>\n",
       "    <tr>\n",
       "      <th>3</th>\n",
       "      <td>master</td>\n",
       "    </tr>\n",
       "    <tr>\n",
       "      <th>3</th>\n",
       "      <td>master</td>\n",
       "    </tr>\n",
       "    <tr>\n",
       "      <th>0</th>\n",
       "      <td>primary</td>\n",
       "    </tr>\n",
       "    <tr>\n",
       "      <th>0</th>\n",
       "      <td>primary</td>\n",
       "    </tr>\n",
       "    <tr>\n",
       "      <th>3</th>\n",
       "      <td>master</td>\n",
       "    </tr>\n",
       "  </tbody>\n",
       "</table>\n",
       "</div>"
      ],
      "text/plain": [
       "  education_level\n",
       "3          master\n",
       "3          master\n",
       "0         primary\n",
       "0         primary\n",
       "3          master"
      ]
     },
     "execution_count": 68,
     "metadata": {},
     "output_type": "execute_result"
    }
   ],
   "source": [
    "education_sample.head()"
   ]
  },
  {
   "cell_type": "code",
   "execution_count": null,
   "id": "f5a2b5d4",
   "metadata": {},
   "outputs": [],
   "source": []
  }
 ],
 "metadata": {
  "kernelspec": {
   "display_name": "Python 3 (ipykernel)",
   "language": "python",
   "name": "python3"
  },
  "language_info": {
   "codemirror_mode": {
    "name": "ipython",
    "version": 3
   },
   "file_extension": ".py",
   "mimetype": "text/x-python",
   "name": "python",
   "nbconvert_exporter": "python",
   "pygments_lexer": "ipython3",
   "version": "3.9.12"
  }
 },
 "nbformat": 4,
 "nbformat_minor": 5
}
